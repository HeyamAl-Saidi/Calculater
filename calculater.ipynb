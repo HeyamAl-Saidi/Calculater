{
  "nbformat": 4,
  "nbformat_minor": 0,
  "metadata": {
    "colab": {
      "name": "calculater.ipynb",
      "provenance": [],
      "authorship_tag": "ABX9TyMwZRHeGYPyoinj5PYSxvlJ",
      "include_colab_link": true
    },
    "kernelspec": {
      "name": "python3",
      "display_name": "Python 3"
    },
    "language_info": {
      "name": "python"
    }
  },
  "cells": [
    {
      "cell_type": "markdown",
      "metadata": {
        "id": "view-in-github",
        "colab_type": "text"
      },
      "source": [
        "<a href=\"https://colab.research.google.com/github/HeyamAl-Saidi/Calculater/blob/main/calculater.ipynb\" target=\"_parent\"><img src=\"https://colab.research.google.com/assets/colab-badge.svg\" alt=\"Open In Colab\"/></a>"
      ]
    },
    {
      "cell_type": "code",
      "execution_count": 2,
      "metadata": {
        "colab": {
          "base_uri": "https://localhost:8080/"
        },
        "id": "DTn6I0SWXkvy",
        "outputId": "b86f02bc-01d3-4c43-df66-4da1376b0be1"
      },
      "outputs": [
        {
          "name": "stdout",
          "output_type": "stream",
          "text": [
            "Enter value of num1:6\n",
            "Enter value of num2:6\n",
            "Enter value of operation:+\n"
          ]
        },
        {
          "output_type": "execute_result",
          "data": {
            "text/plain": [
              "12"
            ]
          },
          "metadata": {},
          "execution_count": 2
        }
      ],
      "source": [
        "#calculate function\n",
        "def calculate(num1,num2,operation):\n",
        " try:\n",
        "  \n",
        "  if operation=='+':\n",
        "    res=num1+num2\n",
        "  elif operation=='-':\n",
        "    res=num1-num2\n",
        "  elif operation =='*':\n",
        "    res=num1*num2\n",
        "  elif operation=='/':\n",
        "    res=num1/num2\n",
        "  else:\n",
        "    pass\n",
        "  return res \n",
        " except ValueError:\n",
        "    print(\"Entered value is wrong\")\n",
        " except ZeroDivisionError:\n",
        "    print(\"Can't divide by zero\")  \n",
        "\n",
        "num1 = int(input(\"Enter value of num1:\"))\n",
        "num2 = int(input(\"Enter value of num2:\"))\n",
        "operation = str(input(\"Enter value of operation:\")) \n",
        "calculate(num1,num2,operation)"
      ]
    }
  ]
}